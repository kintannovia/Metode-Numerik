{
  "nbformat": 4,
  "nbformat_minor": 0,
  "metadata": {
    "colab": {
      "provenance": [],
      "authorship_tag": "ABX9TyMcGoY/YkLHUjgGRC7Wv6Pt",
      "include_colab_link": true
    },
    "kernelspec": {
      "name": "python3",
      "display_name": "Python 3"
    },
    "language_info": {
      "name": "python"
    }
  },
  "cells": [
    {
      "cell_type": "markdown",
      "metadata": {
        "id": "view-in-github",
        "colab_type": "text"
      },
      "source": [
        "<a href=\"https://colab.research.google.com/github/kintannovia/Metode-Numerik/blob/main/Tugas_2.ipynb\" target=\"_parent\"><img src=\"https://colab.research.google.com/assets/colab-badge.svg\" alt=\"Open In Colab\"/></a>"
      ]
    },
    {
      "cell_type": "markdown",
      "source": [
        "Nama  : Kintan Novia Azzahra\n",
        "\n",
        "NPM   : 221106042937\n",
        "\n",
        "Kelas : Reguler C"
      ],
      "metadata": {
        "id": "k7sDqE14jFoB"
      }
    },
    {
      "cell_type": "markdown",
      "source": [
        "Cari galat dari dari perhitungan berikut :\n",
        "1. $$\n",
        "\\sum_{i=1}^{1000000} 0.2 = ?\n",
        "$$\n",
        "\n",
        "\n",
        "2. $$\n",
        "\\sum_{i=1}^{100000} 0.35 = ?\n",
        "$$\n",
        "\n",
        "\n",
        "3. $$\n",
        "\\sum_{i=1}^{1000} (0.1)^2 = ?\n",
        "$$\n",
        "\n",
        "4. $$\n",
        "\\sum_{i=1}^{1000000} 0.25 = ?\n",
        "$$\n",
        "\n"
      ],
      "metadata": {
        "id": "i6ZhBN47jxI3"
      }
    },
    {
      "cell_type": "markdown",
      "source": [
        "Jawab :\n",
        "1. $$\n",
        "\\sum_{i=1}^{1000000} 0.2 = ?\n",
        "$$\n"
      ],
      "metadata": {
        "id": "ltJ2pdGFlH1k"
      }
    },
    {
      "cell_type": "code",
      "execution_count": 1,
      "metadata": {
        "colab": {
          "base_uri": "https://localhost:8080/"
        },
        "id": "nbSvCpaPjBuK",
        "outputId": "4ff7a3bf-fb5c-402f-9feb-09a80cae2749"
      },
      "outputs": [
        {
          "output_type": "stream",
          "name": "stdout",
          "text": [
            "2.6657653506845236e-06\n",
            "1.3328826753422619e-11\n",
            "200000.0\n",
            "200000.00000266577\n"
          ]
        }
      ],
      "source": [
        "jum=0\n",
        "x=0.2\n",
        "n=1000000\n",
        "\n",
        "for i in range(1,n+1):\n",
        "  jum=jum+x #hampiran\n",
        "\n",
        "jum_real=x*n #sebenarnya\n",
        "\n",
        "galab=abs(jum-jum_real) #galat absolut\n",
        "garel=galab/jum_real #galat relatif\n",
        "print(galab)\n",
        "print(garel)\n",
        "print(jum_real)\n",
        "print(jum)"
      ]
    },
    {
      "cell_type": "markdown",
      "source": [
        "2. $$\n",
        "\\sum_{i=1}^{100000} 0.35 = ?\n",
        "$$"
      ],
      "metadata": {
        "id": "3iMItoP1llWb"
      }
    },
    {
      "cell_type": "code",
      "source": [
        "jum=0\n",
        "x=0.35\n",
        "n=100000\n",
        "\n",
        "for i in range(1,n+1):\n",
        "  jum=jum+x #hampiran\n",
        "\n",
        "jum_real=x*n #sebenarnya\n",
        "\n",
        "galab=abs(jum-jum_real) #galat absolut\n",
        "garel=galab/jum_real #galat relatif\n",
        "print(galab)\n",
        "print(garel)\n",
        "print(jum_real)\n",
        "print(jum)"
      ],
      "metadata": {
        "colab": {
          "base_uri": "https://localhost:8080/"
        },
        "id": "IbQldJ2UlqMe",
        "outputId": "bb1d6ab7-e970-459f-9d0f-14b516da7423"
      },
      "execution_count": 2,
      "outputs": [
        {
          "output_type": "stream",
          "name": "stdout",
          "text": [
            "6.537447916343808e-08\n",
            "1.8678422618125167e-12\n",
            "35000.0\n",
            "34999.999999934626\n"
          ]
        }
      ]
    },
    {
      "cell_type": "markdown",
      "source": [
        "3. $$\n",
        "\\sum_{i=1}^{1000} (0.1)^2 = ?\n",
        "$$"
      ],
      "metadata": {
        "id": "NBLFdE6VmCZe"
      }
    },
    {
      "cell_type": "code",
      "source": [
        "jum=0\n",
        "x=(0.1)**2\n",
        "n=1000\n",
        "\n",
        "for i in range(1,n+1):\n",
        "  jum=jum+x #hampiran\n",
        "\n",
        "jum_real=x*n #sebenarnya\n",
        "\n",
        "galab=abs(jum-jum_real) #galat absolut\n",
        "garel=galab/jum_real #galat relatif\n",
        "print(galab)\n",
        "print(garel)\n",
        "print(jum_real)\n",
        "print(jum)"
      ],
      "metadata": {
        "colab": {
          "base_uri": "https://localhost:8080/"
        },
        "id": "fIPHvpwwmKB2",
        "outputId": "e729928d-4651-415c-bc32-e7abd5c173ef"
      },
      "execution_count": 4,
      "outputs": [
        {
          "output_type": "stream",
          "name": "stdout",
          "text": [
            "1.7053025658242404e-13\n",
            "1.70530256582424e-14\n",
            "10.000000000000002\n",
            "9.999999999999831\n"
          ]
        }
      ]
    },
    {
      "cell_type": "markdown",
      "source": [
        "4. $$\n",
        "\\sum_{i=1}^{1000000} 0.25 = ?\n",
        "$$"
      ],
      "metadata": {
        "id": "-LSyD4n-meOU"
      }
    },
    {
      "cell_type": "code",
      "source": [
        "jum=0\n",
        "x=0.25\n",
        "n=1000000\n",
        "\n",
        "for i in range(1,n+1):\n",
        "  jum=jum+x #hampiran\n",
        "\n",
        "jum_real=x*n #sebenarnya\n",
        "\n",
        "galab=abs(jum-jum_real) #galat absolut\n",
        "garel=galab/jum_real #galat relatif\n",
        "print(galab)\n",
        "print(garel)\n",
        "print(jum_real)\n",
        "print(jum)"
      ],
      "metadata": {
        "colab": {
          "base_uri": "https://localhost:8080/"
        },
        "id": "zhY5AFVtmkUu",
        "outputId": "9607d731-8f86-40a2-f7f6-30af33464695"
      },
      "execution_count": 6,
      "outputs": [
        {
          "output_type": "stream",
          "name": "stdout",
          "text": [
            "0.0\n",
            "0.0\n",
            "250000.0\n",
            "250000.0\n"
          ]
        }
      ]
    },
    {
      "cell_type": "markdown",
      "source": [
        "5. $$\n",
        "\\frac{1000000}{4} - \\sum_{i=1}^{1000000} \\frac{1}{4} = ?\n",
        "$$"
      ],
      "metadata": {
        "id": "DE2G40uhmyt_"
      }
    },
    {
      "cell_type": "code",
      "source": [
        "jum=0\n",
        "x=1/4\n",
        "n=1000000\n",
        "\n",
        "for i in range(1,n+1):\n",
        "  jum=jum+x #hampiran\n",
        "\n",
        "jum_real=x*n #sebenarnya\n",
        "\n",
        "galab=abs(jum-jum_real) #galat absolut\n",
        "garel=galab/jum_real #galat relatif\n",
        "print(galab)\n",
        "print(garel)\n",
        "print(jum_real)\n",
        "print(jum)"
      ],
      "metadata": {
        "colab": {
          "base_uri": "https://localhost:8080/"
        },
        "id": "q2xveI_Yn83Y",
        "outputId": "ab3a575a-a846-4535-d87d-397f477655b8"
      },
      "execution_count": 7,
      "outputs": [
        {
          "output_type": "stream",
          "name": "stdout",
          "text": [
            "0.0\n",
            "0.0\n",
            "250000.0\n",
            "250000.0\n"
          ]
        }
      ]
    }
  ]
}