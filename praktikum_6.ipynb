{
  "nbformat": 4,
  "nbformat_minor": 0,
  "metadata": {
    "colab": {
      "provenance": [],
      "include_colab_link": true
    },
    "kernelspec": {
      "name": "python3",
      "display_name": "Python 3"
    },
    "language_info": {
      "name": "python"
    }
  },
  "cells": [
    {
      "cell_type": "markdown",
      "metadata": {
        "id": "view-in-github",
        "colab_type": "text"
      },
      "source": [
        "<a href=\"https://colab.research.google.com/github/kintannovia/Metode-Numerik/blob/main/praktikum_6.ipynb\" target=\"_parent\"><img src=\"https://colab.research.google.com/assets/colab-badge.svg\" alt=\"Open In Colab\"/></a>"
      ]
    },
    {
      "cell_type": "markdown",
      "source": [
        "# Interpolasi"
      ],
      "metadata": {
        "id": "zPzAY4VATxua"
      }
    },
    {
      "cell_type": "markdown",
      "source": [
        "# Definisi"
      ],
      "metadata": {
        "id": "lRIP5JTuT8TS"
      }
    },
    {
      "cell_type": "markdown",
      "source": [
        "**Interpolasi** adalah proses pencarian dan perhitungan nilai suatu\n",
        "fungsi yang grafiknya melewati sekumpulan titik yang\n",
        "diberikan. Dalam hal ini, tujuan utama kita adalah mencari suatu fungsi\n",
        "hampiran yang dapat merepresentasikan fungsi yang rumit\n",
        "agar menjadi lebih sederhana."
      ],
      "metadata": {
        "id": "uR4n9O1lUEcJ"
      }
    },
    {
      "cell_type": "markdown",
      "source": [
        "## Interpolasi Linier"
      ],
      "metadata": {
        "id": "0TI8FJlm8j58"
      }
    },
    {
      "cell_type": "code",
      "source": [
        "import numpy as np\n",
        "from scipy.interpolate import interp1d\n",
        "\n",
        "# Define the x and y values\n",
        "x = np.array([9, 9.5])\n",
        "y = np.array([2.1972, 2.2513])\n",
        "\n",
        "# Create the interpolation function\n",
        "interp_func = interp1d(x, y)\n",
        "\n",
        "# Define the x values for interpolation\n",
        "x_interp = np.array([9.2])\n",
        "\n",
        "# Perform linear interpolation\n",
        "y_interp = interp_func(x_interp)\n",
        "\n",
        "# Print the interpolated values\n",
        "print(y_interp)\n"
      ],
      "metadata": {
        "colab": {
          "base_uri": "https://localhost:8080/"
        },
        "id": "_b2AxUnnT7rO",
        "outputId": "d74265ab-47bf-415a-cc95-71d961b28b4e"
      },
      "execution_count": 1,
      "outputs": [
        {
          "output_type": "stream",
          "name": "stdout",
          "text": [
            "[2.21884]\n"
          ]
        }
      ]
    },
    {
      "cell_type": "markdown",
      "source": [
        "## Interpolasi Lagrange"
      ],
      "metadata": {
        "id": "l2g9HHtO8tYI"
      }
    },
    {
      "cell_type": "code",
      "execution_count": null,
      "metadata": {
        "id": "Mse4_eEmTrNh",
        "colab": {
          "base_uri": "https://localhost:8080/"
        },
        "outputId": "fe8e0097-8695-41d3-babb-1fcdd6da2e78"
      },
      "outputs": [
        {
          "output_type": "stream",
          "name": "stdout",
          "text": [
            "[3.1  4.66]\n"
          ]
        }
      ],
      "source": [
        "#lagrange interpolation\n",
        "import numpy as np\n",
        "from scipy.interpolate import lagrange\n",
        "\n",
        "# Define the x and y values\n",
        "x = np.array([1, 2, 3, 4, 5])\n",
        "\n",
        "y = np.array([2, 4, 6, 8, 10])\n",
        "\n",
        "# Create the interpolation function\n",
        "interp_func = lagrange(x, y)\n",
        "\n",
        "# Define the x values for interpolation\n",
        "x_interp = np.array([1.55, 2.33])\n",
        "\n",
        "# Perform linear interpolation\n",
        "y_interp = interp_func(x_interp)\n",
        "\n",
        "# Print the interpolated values\n",
        "print(y_interp)"
      ]
    },
    {
      "cell_type": "markdown",
      "source": [
        "## Interpolasi Newton"
      ],
      "metadata": {
        "id": "XJzKmHuz-VoW"
      }
    },
    {
      "cell_type": "code",
      "source": [
        "#newton interpolation\n",
        "import numpy as np\n",
        "from scipy.interpolate import barycentric_interpolate\n",
        "\n",
        "# Define the x and y values\n",
        "x = np.array([1, 2, 3, 4, 5])\n",
        "y = np.array([2, 4, 6, 8, 10])\n",
        "\n",
        "# Define the x values for interpolation\n",
        "x_interp = np.array([1.55, 2.55, 3.55])\n",
        "\n",
        "# Perform linear interpolation\n",
        "y_interp = barycentric_interpolate(x, y, x_interp)\n",
        "\n",
        "# Print the interpolated values\n",
        "print(y_interp)"
      ],
      "metadata": {
        "id": "Xm-k-JEr80rr",
        "colab": {
          "base_uri": "https://localhost:8080/"
        },
        "outputId": "0e34adeb-7396-4a7a-b300-f8462675f349"
      },
      "execution_count": null,
      "outputs": [
        {
          "output_type": "stream",
          "name": "stdout",
          "text": [
            "[3.1 5.1 7.1]\n"
          ]
        }
      ]
    },
    {
      "cell_type": "markdown",
      "source": [
        "## Interpolasi Spline"
      ],
      "metadata": {
        "id": "88w8-fqm-b6G"
      }
    },
    {
      "cell_type": "code",
      "source": [
        "#linear spline interpolation\n",
        "import numpy as np\n",
        "from scipy.interpolate import interp1d\n",
        "\n",
        "# Define the x and y values\n",
        "x = np.array([1, 2, 3, 4, 5])\n",
        "y = np.array([2, 4, 6, 8, 10])\n",
        "\n",
        "# Create the interpolation function\n",
        "interp_func = interp1d(x, y, kind='slinear')\n",
        "\n",
        "# Define the x values for interpolation\n",
        "x_interp = np.array([1.55, 2.55, 3.55])\n",
        "\n",
        "# Perform linear interpolation\n",
        "y_interp = interp_func(x_interp)\n",
        "\n",
        "# Print the interpolated values\n",
        "print(y_interp)"
      ],
      "metadata": {
        "id": "Ej8x2lQua1FB",
        "colab": {
          "base_uri": "https://localhost:8080/"
        },
        "outputId": "23d8bf11-1506-41b3-a147-9908b5e06389"
      },
      "execution_count": null,
      "outputs": [
        {
          "output_type": "stream",
          "name": "stdout",
          "text": [
            "[3.1 5.1 7.1]\n"
          ]
        }
      ]
    }
  ]
}