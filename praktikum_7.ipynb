{
  "nbformat": 4,
  "nbformat_minor": 0,
  "metadata": {
    "colab": {
      "provenance": [],
      "include_colab_link": true
    },
    "kernelspec": {
      "name": "python3",
      "display_name": "Python 3"
    },
    "language_info": {
      "name": "python"
    }
  },
  "cells": [
    {
      "cell_type": "markdown",
      "metadata": {
        "id": "view-in-github",
        "colab_type": "text"
      },
      "source": [
        "<a href=\"https://colab.research.google.com/github/kintannovia/Metode-Numerik/blob/main/praktikum_7.ipynb\" target=\"_parent\"><img src=\"https://colab.research.google.com/assets/colab-badge.svg\" alt=\"Open In Colab\"/></a>"
      ]
    },
    {
      "cell_type": "markdown",
      "source": [
        "# Turunan Numerik"
      ],
      "metadata": {
        "id": "IooSE5gB_Uod"
      }
    },
    {
      "cell_type": "markdown",
      "source": [
        "## Turunan Pertama"
      ],
      "metadata": {
        "id": "rdZ6SLPI_adU"
      }
    },
    {
      "cell_type": "code",
      "execution_count": null,
      "metadata": {
        "id": "149rM695-nAi"
      },
      "outputs": [],
      "source": [
        "#turunan exp(x)\n",
        "import numpy as np\n",
        "\n",
        "def turunan(x,h,metode='maju'):\n",
        "    def f(x):  #fungsi exp(x) yg sudah diturunkan\n",
        "        return np.exp(x)\n",
        "    if metode == 'maju':\n",
        "        res = (f(x+h)-f(x))/h\n",
        "    elif metode == 'mundur':\n",
        "        res = (f(x)-f(x-h))/h\n",
        "        galat = res - f(x)\n",
        "    elif metode == 'tengah':\n",
        "        res = (f(x+h)-f(x-h))/(2*h)\n",
        "    else:\n",
        "        print('Metode tidak dikenali')\n",
        "    galat = abs(res - f(x))\n",
        "    return res, galat"
      ]
    },
    {
      "cell_type": "code",
      "source": [
        "turunan(1, 0.2, 'maju')"
      ],
      "metadata": {
        "colab": {
          "base_uri": "https://localhost:8080/"
        },
        "id": "AHbfePzTqU2o",
        "outputId": "b847c47a-4133-4294-ee8e-bdd2e67d534b"
      },
      "execution_count": null,
      "outputs": [
        {
          "output_type": "execute_result",
          "data": {
            "text/plain": [
              "(3.0091754713875107, 0.29089364292846565)"
            ]
          },
          "metadata": {},
          "execution_count": 4
        }
      ]
    },
    {
      "cell_type": "code",
      "source": [
        "turunan(1, 0.2, 'mundur')"
      ],
      "metadata": {
        "colab": {
          "base_uri": "https://localhost:8080/"
        },
        "id": "z6fUClRDsymB",
        "outputId": "a235000d-c6ae-4f0b-f481-4cee1fb9598d"
      },
      "execution_count": null,
      "outputs": [
        {
          "output_type": "execute_result",
          "data": {
            "text/plain": [
              "(2.463704499832886, 0.254577328626159)"
            ]
          },
          "metadata": {},
          "execution_count": 7
        }
      ]
    },
    {
      "cell_type": "code",
      "source": [
        "turunan(1, 0.2, 'tengah')"
      ],
      "metadata": {
        "colab": {
          "base_uri": "https://localhost:8080/"
        },
        "id": "n57p-bBKuJ5O",
        "outputId": "1e6f1c61-da46-41f1-f756-ee6cf0214056"
      },
      "execution_count": null,
      "outputs": [
        {
          "output_type": "execute_result",
          "data": {
            "text/plain": [
              "(2.736439985610198, 0.018158157151153098)"
            ]
          },
          "metadata": {},
          "execution_count": 8
        }
      ]
    },
    {
      "cell_type": "markdown",
      "source": [
        "## Turunan Kedua"
      ],
      "metadata": {
        "id": "lS97q0gK_gBe"
      }
    },
    {
      "cell_type": "code",
      "source": [
        "#turunan kedua exp(x)\n",
        "import numpy as np\n",
        "\n",
        "def turunan2(x,h,metode='maju'):\n",
        "    def f(x):  #fungsi exp(x) yg sudah diturunkan 2x\n",
        "        return np.exp(x)\n",
        "    if metode == 'maju':\n",
        "        res = (f(x+2*h)-2*f(x+h)+f(x))/h**2\n",
        "    elif metode == 'mundur':\n",
        "        res = (f(x)-2*f(x-h)+f(x-2*h))/h**2\n",
        "    elif metode == 'tengah':\n",
        "        res = (f(x+h)-2*f(x)+f(x-h))/h**2\n",
        "    else:\n",
        "        print('Metode tidak dikenali')\n",
        "    galat = abs(res - f(x))\n",
        "    return res, galat"
      ],
      "metadata": {
        "id": "8KW3IC46_fjI"
      },
      "execution_count": null,
      "outputs": []
    },
    {
      "cell_type": "code",
      "source": [
        "turunan2(1, 0.2, 'tengah')"
      ],
      "metadata": {
        "colab": {
          "base_uri": "https://localhost:8080/"
        },
        "id": "QEEvBoVItsY3",
        "outputId": "d476f796-6d53-4b53-981e-8ae2c3d51fca"
      },
      "execution_count": null,
      "outputs": [
        {
          "output_type": "execute_result",
          "data": {
            "text/plain": [
              "(2.727354857773123, 0.009073029314077719)"
            ]
          },
          "metadata": {},
          "execution_count": 10
        }
      ]
    },
    {
      "cell_type": "code",
      "source": [
        "turunan2(1,0.2,'maju')"
      ],
      "metadata": {
        "colab": {
          "base_uri": "https://localhost:8080/"
        },
        "id": "75zanKfZuee2",
        "outputId": "4585c9d4-345c-467f-fc1a-e784d0de010f"
      },
      "execution_count": null,
      "outputs": [
        {
          "output_type": "execute_result",
          "data": {
            "text/plain": [
              "(3.3311987457656285, 0.6129169173065834)"
            ]
          },
          "metadata": {},
          "execution_count": 12
        }
      ]
    }
  ]
}